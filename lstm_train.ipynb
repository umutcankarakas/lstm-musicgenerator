{
  "nbformat": 4,
  "nbformat_minor": 0,
  "metadata": {
    "colab": {
      "name": "lstm_train.ipynb",
      "provenance": [],
      "authorship_tag": "ABX9TyMA2Z5/1V0M9kVAr9KleGd3",
      "include_colab_link": true
    },
    "kernelspec": {
      "name": "python3",
      "display_name": "Python 3"
    }
  },
  "cells": [
    {
      "cell_type": "markdown",
      "metadata": {
        "id": "view-in-github",
        "colab_type": "text"
      },
      "source": [
        "<a href=\"https://colab.research.google.com/github/umutcankarakas/lstm-musicgenerator/blob/master/lstm_train.ipynb\" target=\"_parent\"><img src=\"https://colab.research.google.com/assets/colab-badge.svg\" alt=\"Open In Colab\"/></a>"
      ]
    },
    {
      "cell_type": "code",
      "metadata": {
        "id": "PoeUKwFcFDhW",
        "colab_type": "code",
        "colab": {
          "base_uri": "https://localhost:8080/",
          "height": 118
        },
        "outputId": "5d027386-3814-4924-fdab-0bac9dd6ed4d"
      },
      "source": [
        "!git clone https://github.com/umutcankarakas/lstm-musicgenerator.git"
      ],
      "execution_count": 1,
      "outputs": [
        {
          "output_type": "stream",
          "text": [
            "Cloning into 'lstm-musicgenerator'...\n",
            "remote: Enumerating objects: 39, done.\u001b[K\n",
            "remote: Counting objects:   2% (1/39)\u001b[K\rremote: Counting objects:   5% (2/39)\u001b[K\rremote: Counting objects:   7% (3/39)\u001b[K\rremote: Counting objects:  10% (4/39)\u001b[K\rremote: Counting objects:  12% (5/39)\u001b[K\rremote: Counting objects:  15% (6/39)\u001b[K\rremote: Counting objects:  17% (7/39)\u001b[K\rremote: Counting objects:  20% (8/39)\u001b[K\rremote: Counting objects:  23% (9/39)\u001b[K\rremote: Counting objects:  25% (10/39)\u001b[K\rremote: Counting objects:  28% (11/39)\u001b[K\rremote: Counting objects:  30% (12/39)\u001b[K\rremote: Counting objects:  33% (13/39)\u001b[K\rremote: Counting objects:  35% (14/39)\u001b[K\rremote: Counting objects:  38% (15/39)\u001b[K\rremote: Counting objects:  41% (16/39)\u001b[K\rremote: Counting objects:  43% (17/39)\u001b[K\rremote: Counting objects:  46% (18/39)\u001b[K\rremote: Counting objects:  48% (19/39)\u001b[K\rremote: Counting objects:  51% (20/39)\u001b[K\rremote: Counting objects:  53% (21/39)\u001b[K\rremote: Counting objects:  56% (22/39)\u001b[K\rremote: Counting objects:  58% (23/39)\u001b[K\rremote: Counting objects:  61% (24/39)\u001b[K\rremote: Counting objects:  64% (25/39)\u001b[K\rremote: Counting objects:  66% (26/39)\u001b[K\rremote: Counting objects:  69% (27/39)\u001b[K\rremote: Counting objects:  71% (28/39)\u001b[K\rremote: Counting objects:  74% (29/39)\u001b[K\rremote: Counting objects:  76% (30/39)\u001b[K\rremote: Counting objects:  79% (31/39)\u001b[K\rremote: Counting objects:  82% (32/39)\u001b[K\rremote: Counting objects:  84% (33/39)\u001b[K\rremote: Counting objects:  87% (34/39)\u001b[K\rremote: Counting objects:  89% (35/39)\u001b[K\rremote: Counting objects:  92% (36/39)\u001b[K\rremote: Counting objects:  94% (37/39)\u001b[K\rremote: Counting objects:  97% (38/39)\u001b[K\rremote: Counting objects: 100% (39/39)\u001b[K\rremote: Counting objects: 100% (39/39), done.\u001b[K\n",
            "remote: Compressing objects:   2% (1/35)\u001b[K\rremote: Compressing objects:   5% (2/35)\u001b[K\rremote: Compressing objects:   8% (3/35)\u001b[K\rremote: Compressing objects:  11% (4/35)\u001b[K\rremote: Compressing objects:  14% (5/35)\u001b[K\rremote: Compressing objects:  17% (6/35)\u001b[K\rremote: Compressing objects:  20% (7/35)\u001b[K\rremote: Compressing objects:  22% (8/35)\u001b[K\rremote: Compressing objects:  25% (9/35)\u001b[K\rremote: Compressing objects:  28% (10/35)\u001b[K\rremote: Compressing objects:  31% (11/35)\u001b[K\rremote: Compressing objects:  34% (12/35)\u001b[K\rremote: Compressing objects:  37% (13/35)\u001b[K\rremote: Compressing objects:  40% (14/35)\u001b[K\rremote: Compressing objects:  42% (15/35)\u001b[K\rremote: Compressing objects:  45% (16/35)\u001b[K\rremote: Compressing objects:  48% (17/35)\u001b[K\rremote: Compressing objects:  51% (18/35)\u001b[K\rremote: Compressing objects:  54% (19/35)\u001b[K\rremote: Compressing objects:  57% (20/35)\u001b[K\rremote: Compressing objects:  60% (21/35)\u001b[K\rremote: Compressing objects:  62% (22/35)\u001b[K\rremote: Compressing objects:  65% (23/35)\u001b[K\rremote: Compressing objects:  68% (24/35)\u001b[K\rremote: Compressing objects:  71% (25/35)\u001b[K\rremote: Compressing objects:  74% (26/35)\u001b[K\rremote: Compressing objects:  77% (27/35)\u001b[K\rremote: Compressing objects:  80% (28/35)\u001b[K\rremote: Compressing objects:  82% (29/35)\u001b[K\rremote: Compressing objects:  85% (30/35)\u001b[K\rremote: Compressing objects:  88% (31/35)\u001b[K\rremote: Compressing objects:  91% (32/35)\u001b[K\rremote: Compressing objects:  94% (33/35)\u001b[K\rremote: Compressing objects:  97% (34/35)\u001b[K\rremote: Compressing objects: 100% (35/35)\u001b[K\rremote: Compressing objects: 100% (35/35), done.\u001b[K\n",
            "Unpacking objects:   2% (1/39)   \rUnpacking objects:   5% (2/39)   \rUnpacking objects:   7% (3/39)   \rUnpacking objects:  10% (4/39)   \rUnpacking objects:  12% (5/39)   \rUnpacking objects:  15% (6/39)   \rUnpacking objects:  17% (7/39)   \rUnpacking objects:  20% (8/39)   \rUnpacking objects:  23% (9/39)   \rUnpacking objects:  25% (10/39)   \rUnpacking objects:  28% (11/39)   \rUnpacking objects:  30% (12/39)   \rUnpacking objects:  33% (13/39)   \rUnpacking objects:  35% (14/39)   \rUnpacking objects:  38% (15/39)   \rUnpacking objects:  41% (16/39)   \rUnpacking objects:  43% (17/39)   \rUnpacking objects:  46% (18/39)   \rUnpacking objects:  48% (19/39)   \rremote: Total 39 (delta 10), reused 0 (delta 0), pack-reused 0\u001b[K\n",
            "Unpacking objects:  51% (20/39)   \rUnpacking objects:  53% (21/39)   \rUnpacking objects:  56% (22/39)   \rUnpacking objects:  58% (23/39)   \rUnpacking objects:  61% (24/39)   \rUnpacking objects:  64% (25/39)   \rUnpacking objects:  66% (26/39)   \rUnpacking objects:  69% (27/39)   \rUnpacking objects:  71% (28/39)   \rUnpacking objects:  74% (29/39)   \rUnpacking objects:  76% (30/39)   \rUnpacking objects:  79% (31/39)   \rUnpacking objects:  82% (32/39)   \rUnpacking objects:  84% (33/39)   \rUnpacking objects:  87% (34/39)   \rUnpacking objects:  89% (35/39)   \rUnpacking objects:  92% (36/39)   \rUnpacking objects:  94% (37/39)   \rUnpacking objects:  97% (38/39)   \rUnpacking objects: 100% (39/39)   \rUnpacking objects: 100% (39/39), done.\n"
          ],
          "name": "stdout"
        }
      ]
    },
    {
      "cell_type": "code",
      "metadata": {
        "id": "-GEXRM6WH_6v",
        "colab_type": "code",
        "colab": {
          "base_uri": "https://localhost:8080/",
          "height": 289
        },
        "outputId": "a0a98000-84da-415c-f725-c1dfb8406458"
      },
      "source": [
        "!pip install keras-self-attention"
      ],
      "execution_count": 2,
      "outputs": [
        {
          "output_type": "stream",
          "text": [
            "Collecting keras-self-attention\n",
            "  Downloading https://files.pythonhosted.org/packages/39/0d/b8ab8469ae55cea199574f4d2c30da4656d310a833a67bb422ad8a056bf0/keras-self-attention-0.47.0.tar.gz\n",
            "Requirement already satisfied: numpy in /usr/local/lib/python3.6/dist-packages (from keras-self-attention) (1.18.5)\n",
            "Requirement already satisfied: Keras in /usr/local/lib/python3.6/dist-packages (from keras-self-attention) (2.4.3)\n",
            "Requirement already satisfied: h5py in /usr/local/lib/python3.6/dist-packages (from Keras->keras-self-attention) (2.10.0)\n",
            "Requirement already satisfied: pyyaml in /usr/local/lib/python3.6/dist-packages (from Keras->keras-self-attention) (3.13)\n",
            "Requirement already satisfied: scipy>=0.14 in /usr/local/lib/python3.6/dist-packages (from Keras->keras-self-attention) (1.4.1)\n",
            "Requirement already satisfied: six in /usr/local/lib/python3.6/dist-packages (from h5py->Keras->keras-self-attention) (1.15.0)\n",
            "Building wheels for collected packages: keras-self-attention\n",
            "  Building wheel for keras-self-attention (setup.py) ... \u001b[?25l\u001b[?25hdone\n",
            "  Created wheel for keras-self-attention: filename=keras_self_attention-0.47.0-cp36-none-any.whl size=17289 sha256=f15526a8f75fd879285ce648198979b4c62505451fc60538ae5c1fb0f4be48ea\n",
            "  Stored in directory: /root/.cache/pip/wheels/70/87/01/76c703d5401b65e323927c1fdc665f3fb143282ff67d71e859\n",
            "Successfully built keras-self-attention\n",
            "Installing collected packages: keras-self-attention\n",
            "Successfully installed keras-self-attention-0.47.0\n"
          ],
          "name": "stdout"
        }
      ]
    },
    {
      "cell_type": "code",
      "metadata": {
        "id": "a934tI_cIOWn",
        "colab_type": "code",
        "colab": {}
      },
      "source": [
        "import os\n",
        "import numpy as np\n",
        "from pathlib import *\n",
        "import glob\n",
        "import pickle\n",
        "import numpy\n",
        "from music21 import converter, instrument, note, chord, stream\n",
        "from keras.models import Sequential\n",
        "from keras.layers import BatchNormalization as BatchNorm\n",
        "from keras.utils import np_utils\n",
        "from keras.layers import Dense, Dropout, LSTM, Activation, Bidirectional, Flatten\n",
        "#from keras import utils\n",
        "from keras.callbacks import ModelCheckpoint\n",
        "from keras_self_attention import SeqSelfAttention\n",
        "from matplotlib import pyplot as plt\n",
        "import string"
      ],
      "execution_count": 3,
      "outputs": []
    },
    {
      "cell_type": "code",
      "metadata": {
        "id": "V_JbhR67IU2E",
        "colab_type": "code",
        "colab": {}
      },
      "source": [
        "os.chdir('lstm-musicgenerator')"
      ],
      "execution_count": 4,
      "outputs": []
    },
    {
      "cell_type": "code",
      "metadata": {
        "id": "TU8C2WjPIe5B",
        "colab_type": "code",
        "colab": {}
      },
      "source": [
        "train_path = 'data/'"
      ],
      "execution_count": 5,
      "outputs": []
    },
    {
      "cell_type": "code",
      "metadata": {
        "id": "3_YiRbwmIsRI",
        "colab_type": "code",
        "colab": {}
      },
      "source": [
        "def train_network():\n",
        "    \"\"\" Train a Neural Network to generate music \"\"\"\n",
        "    notes = get_notes()\n",
        "\n",
        "    # get amount of pitch names\n",
        "    n_vocab = 128 + 128 + 2\n",
        "\n",
        "    network_input, network_output = prepare_sequences(notes, n_vocab)\n",
        "\n",
        "    model = create_network(network_input, n_vocab)\n",
        "    history = train(model, network_input, network_output)\n",
        "    return history"
      ],
      "execution_count": 6,
      "outputs": []
    },
    {
      "cell_type": "code",
      "metadata": {
        "id": "z6b0T4_sIxWt",
        "colab_type": "code",
        "colab": {}
      },
      "source": [
        "def convertMidi2Arr(midi_element):\n",
        "  newlist = []\n",
        "  max_duration = 8*4*4\n",
        "  if isinstance(midi_element, note.Note):\n",
        "    newlist.append(midi_element.pitch.midi)\n",
        "    if int(round(midi_element.duration.quarterLength*4)) > max_duration:\n",
        "      newlist.append(128 + max_duration)\n",
        "    else:\n",
        "      newlist.append(128 + int(round(midi_element.duration.quarterLength*4)))\n",
        "  elif isinstance(midi_element, chord.Chord):\n",
        "    for n in midi_element:\n",
        "      newlist.append(n.pitch.midi) \n",
        "      if int(round(midi_element.duration.quarterLength*4)) > max_duration:\n",
        "        newlist.append(128 + max_duration)\n",
        "      else:\n",
        "        newlist.append(128 + int(round(midi_element.duration.quarterLength*4)))\n",
        "  elif isinstance(midi_element, note.Rest):\n",
        "    newlist.append(128)\n",
        "    if int(round(midi_element.duration.quarterLength*4)) > max_duration:\n",
        "      newlist.append(128 + max_duration)\n",
        "    else:\n",
        "      newlist.append(128 + int(round(midi_element.duration.quarterLength*4)))\n",
        "  return newlist"
      ],
      "execution_count": 7,
      "outputs": []
    },
    {
      "cell_type": "code",
      "metadata": {
        "id": "JPOX5uarK46j",
        "colab_type": "code",
        "colab": {}
      },
      "source": [
        "def get_notes():\n",
        "  mylist = []\n",
        "  count = 0\n",
        "  last_offset = 0.0\n",
        "  offset_diff = 0.0\n",
        "  for file in glob.glob(train_path + '**/*.midi', recursive=True):\n",
        "    try:\n",
        "      midi = converter.parse(file)\n",
        "    except:\n",
        "      continue\n",
        "    print(\"Parsing %s\" % file)\n",
        "    #print(count)\n",
        "    notes_to_parse = None\n",
        "    max_duration = 8*4*4\n",
        "\n",
        "    try: # file has instrument parts\n",
        "      s2 = instrument.partitionByInstrument(midi_piece)\n",
        "      notes_to_parse = s2.parts[0].recurse() \n",
        "    except: # file has notes in a flat structure\n",
        "      notes_to_parse = midi.flat.notesAndRests\n",
        "\n",
        "    same_offset_elements = []\n",
        "    #min_duration = max_duration\n",
        "    for element in notes_to_parse:\n",
        "      if isinstance(element, note.Note) or isinstance(element, chord.Chord) or isinstance(element, note.Rest):\n",
        "        if( not same_offset_elements or same_offset_elements[0].offset == element.offset):\n",
        "          same_offset_elements.append(element)\n",
        "        else:\n",
        "          add_arr = []\n",
        "          #flags = [0,0,0]\n",
        "          for toadd_midi in same_offset_elements:\n",
        "            toadd = convertMidi2Arr(toadd_midi)\n",
        "            if toadd[0]==128:\n",
        "              continue\n",
        "            add_arr.extend(toadd)\n",
        "          if(element.offset > last_offset):\n",
        "            offset_diff = same_offset_elements[0].offset - last_offset\n",
        "            last_offset = same_offset_elements[0].offset\n",
        "          if mylist and mylist[-1] != '_':\n",
        "            mylist.append(257)\n",
        "            mylist.append(128+int(round(offset_diff*4)))\n",
        "            mylist.extend(add_arr)\n",
        "          else:\n",
        "            mylist.extend(add_arr)\n",
        "\n",
        "          offset_diff = 0.0\n",
        "          same_offset_elements = []\n",
        "          same_offset_elements.append(element)\n",
        "\n",
        "    if same_offset_elements:\n",
        "      add_arr = []\n",
        "      for toadd_midi in same_offset_elements:\n",
        "        toadd = convertMidi2Arr(toadd_midi)\n",
        "        if toadd[0]==128:\n",
        "          continue\n",
        "        add_arr.extend(toadd)\n",
        "      if(element.offset > last_offset):\n",
        "        offset_diff = same_offset_elements[0].offset - last_offset\n",
        "        last_offset = same_offset_elements[0].offset\n",
        "      if mylist and mylist[-1] != '_':\n",
        "        mylist.append(257)\n",
        "        mylist.append(128+int(round(offset_diff*4)))\n",
        "        mylist.extend(add_arr)\n",
        "      else:\n",
        "        mylist.extend(add_arr)\n",
        "\n",
        "    if count != 0: count = count + 1\n",
        "    else: break\n",
        "    mylist.append('_')\n",
        "\n",
        "  with open('data/notes', 'wb') as filepath:\n",
        "    pickle.dump(mylist, filepath)\n",
        "  return mylist"
      ],
      "execution_count": 8,
      "outputs": []
    },
    {
      "cell_type": "code",
      "metadata": {
        "id": "VS9FtJ36OaZ0",
        "colab_type": "code",
        "colab": {}
      },
      "source": [
        "def prepare_sequences(notes, n_vocab):\n",
        "    \"\"\" Prepare the sequences used by the Neural Network \"\"\"\n",
        "    sequence_length = 400\n",
        "\n",
        "    network_input = []\n",
        "    network_output = []\n",
        "\n",
        "    # create input sequences and the corresponding outputs\n",
        "    for i in range(0, len(notes) - sequence_length, 1):\n",
        "        sequence_in = notes[i:i + sequence_length]\n",
        "        sequence_out = notes[i + sequence_length]\n",
        "        if '_' in sequence_in:\n",
        "          i = sequence_in.index('_') + 1\n",
        "          continue\n",
        "        elif sequence_out == '_':\n",
        "          i = i + sequence_length +1\n",
        "          continue\n",
        "        \n",
        "        network_input.append([element for element in sequence_in])\n",
        "        network_output.append(sequence_out)\n",
        "\n",
        "    n_patterns = len(network_input)\n",
        "\n",
        "    # reshape the input into a format compatible with LSTM layers\n",
        "    network_input = numpy.reshape(network_input, (n_patterns, sequence_length, 1))\n",
        "    # normalize input\n",
        "    network_input = network_input / float(n_vocab)\n",
        "\n",
        "    network_output = np_utils.to_categorical(network_output)\n",
        "\n",
        "    return (network_input, network_output)"
      ],
      "execution_count": 9,
      "outputs": []
    },
    {
      "cell_type": "code",
      "metadata": {
        "id": "gr4bseZtOuOf",
        "colab_type": "code",
        "colab": {}
      },
      "source": [
        "def create_network(network_input, n_vocab):\n",
        "    \"\"\" create the structure of the neural network \"\"\"\n",
        "    model = Sequential()\n",
        "    model.add(LSTM(\n",
        "        512,\n",
        "        input_shape=(network_input.shape[1], network_input.shape[2]),\n",
        "        return_sequences=True\n",
        "    ))\n",
        "    model.add(LSTM(512, return_sequences=True))\n",
        "    model.add(LSTM(512))\n",
        "    model.add(Activation('relu'))\n",
        "    model.add(BatchNorm())\n",
        "    model.add(Dense(n_vocab))\n",
        "    model.add(Activation('softmax'))\n",
        "    model.compile(loss='categorical_crossentropy', optimizer='rmsprop', metrics=['accuracy'])\n",
        "    if(os.path.exists('data/weights.hdf5')): model.load_weights('data/weights.hdf5')\n",
        "    return model"
      ],
      "execution_count": 10,
      "outputs": []
    },
    {
      "cell_type": "code",
      "metadata": {
        "id": "BMJFPJePOvB9",
        "colab_type": "code",
        "colab": {}
      },
      "source": [
        "def create_network_2(network_input, n_vocab):\n",
        "    \"\"\" create the structure of the neural network \"\"\"\n",
        "    model = Sequential()\n",
        "    model.add(Bidirectional(LSTM(512,\n",
        "        input_shape=(network_input.shape[1], network_input.shape[2]), #n_time_steps, n_features?\n",
        "        return_sequences=True)))\n",
        "    model.add(SeqSelfAttention(attention_activation='sigmoid'))\n",
        "    model.add(LSTM(512,return_sequences=True))\n",
        "    model.add(Flatten()) #Supposedly needed to fix stuff before dense layer\n",
        "    model.add(Dense(n_vocab))\n",
        "    model.add(Activation('softmax'))\n",
        "    model.compile(loss='categorical_crossentropy', optimizer='rmsprop', metrics=['accuracy'])\n",
        "    if(os.path.exists('data/weights.hdf5')): model.load_weights('data/weights.hdf5')\n",
        "    return model"
      ],
      "execution_count": 11,
      "outputs": []
    },
    {
      "cell_type": "code",
      "metadata": {
        "id": "wEmcFQAJO_Cj",
        "colab_type": "code",
        "colab": {}
      },
      "source": [
        "def create_network_3(network_input, n_vocab):\n",
        "    \"\"\" create the structure of the neural network \"\"\"\n",
        "    model = Sequential()\n",
        "    model.add(LSTM(\n",
        "        512,\n",
        "        input_shape=(network_input.shape[1], network_input.shape[2]),\n",
        "        return_sequences=True\n",
        "    ))\n",
        "    model.add(LSTM(512, return_sequences=True))\n",
        "    model.add(LSTM(512, return_sequences=True))\n",
        "    model.add(LSTM(512, return_sequences=True))\n",
        "    model.add(LSTM(512, return_sequences=True))\n",
        "    model.add(LSTM(512))\n",
        "    model.add(Activation('relu'))\n",
        "    model.add(BatchNorm())\n",
        "    model.add(Dense(n_vocab))\n",
        "    model.add(Activation('softmax'))\n",
        "    model.compile(loss='categorical_crossentropy', optimizer='rmsprop', metrics=['accuracy'])\n",
        "    if(os.path.exists('data/weights.hdf5')): model.load_weights('data/weights.hdf5')\n",
        "    return model"
      ],
      "execution_count": 12,
      "outputs": []
    },
    {
      "cell_type": "code",
      "metadata": {
        "id": "6Y3XssDuPJHb",
        "colab_type": "code",
        "colab": {}
      },
      "source": [
        "def create_network_4(network_input, n_vocab):\n",
        "    \"\"\" create the structure of the neural network \"\"\"\n",
        "    model = Sequential()\n",
        "    model.add(LSTM(\n",
        "        512,\n",
        "        input_shape=(network_input.shape[1], network_input.shape[2]),\n",
        "        recurrent_dropout=0.2,\n",
        "        return_sequences=True\n",
        "    ))\n",
        "    model.add(LSTM(512, return_sequences=True, recurrent_dropout=0.2,))\n",
        "    model.add(LSTM(512))\n",
        "    model.add(BatchNorm())\n",
        "    model.add(Dropout(0.2))\n",
        "    model.add(Dense(256))\n",
        "    model.add(Activation('relu'))\n",
        "    model.add(BatchNorm())\n",
        "    model.add(Dropout(0.2))\n",
        "    model.add(Dense(n_vocab))\n",
        "    model.add(Activation('softmax'))\n",
        "    model.compile(loss='categorical_crossentropy', optimizer='rmsprop', metrics=['accuracy'])\n",
        "    if(os.path.exists('data/weights.hdf5')): model.load_weights('data/weights.hdf5')\n",
        "    return model"
      ],
      "execution_count": 13,
      "outputs": []
    },
    {
      "cell_type": "code",
      "metadata": {
        "id": "63hXOBusPKOi",
        "colab_type": "code",
        "colab": {}
      },
      "source": [
        "def create_network_5(network_input, n_vocab):\n",
        "    \"\"\" create the structure of the neural network \"\"\"\n",
        "    model = Sequential()\n",
        "    model.add(Bidirectional(LSTM(512,\n",
        "        input_shape=(network_input.shape[1], network_input.shape[2]), #n_time_steps, n_features?\n",
        "        return_sequences=True)))\n",
        "    model.add(SeqSelfAttention(attention_activation='sigmoid'))\n",
        "    model.add(SeqSelfAttention(attention_activation='sigmoid'))\n",
        "    model.add(SeqSelfAttention(attention_activation='sigmoid'))\n",
        "    model.add(LSTM(512,return_sequences=True))\n",
        "    model.add(Flatten()) #Supposedly needed to fix stuff before dense layer\n",
        "    model.add(Dense(n_vocab))\n",
        "    model.add(Activation('softmax'))\n",
        "    model.compile(loss='categorical_crossentropy', optimizer='rmsprop', metrics=['accuracy'])\n",
        "    if(os.path.exists('data/weights.hdf5')): model.load_weights('data/weights.hdf5')\n",
        "    return model"
      ],
      "execution_count": 14,
      "outputs": []
    },
    {
      "cell_type": "code",
      "metadata": {
        "id": "3mLhCscZPN8S",
        "colab_type": "code",
        "colab": {}
      },
      "source": [
        "def create_network_6(network_input, n_vocab):\n",
        "    \"\"\" create the structure of the neural network \"\"\"\n",
        "    model = Sequential()\n",
        "    model.add(Bidirectional(LSTM(512,\n",
        "        input_shape=(network_input.shape[1], network_input.shape[2]), #n_time_steps, n_features?\n",
        "        return_sequences=True)))\n",
        "    model.add(SeqSelfAttention(attention_activation='sigmoid'))\n",
        "    #model.add(Dropout(0.3))\n",
        "    \n",
        "    model.add(LSTM(512,return_sequences=True))\n",
        "    #model.add(Dropout(0.3))\n",
        "    \n",
        "    model.add(Flatten()) #Supposedly needed to fix stuff before dense layer\n",
        "    model.add(Dense(n_vocab))\n",
        "    model.add(Activation('softmax'))\n",
        "    model.compile(loss='categorical_crossentropy', optimizer='rmsprop', metrics=['accuracy'])\n",
        "    if(os.path.exists('data/weights.hdf5')): model.load_weights('data/weights.hdf5')\n",
        "    return model"
      ],
      "execution_count": 15,
      "outputs": []
    },
    {
      "cell_type": "code",
      "metadata": {
        "id": "80RuxTFLPb63",
        "colab_type": "code",
        "colab": {}
      },
      "source": [
        "def train(model, network_input, network_output):\n",
        "    \"\"\" train the neural network \"\"\"\n",
        "    #filepath = os.path.abspath(\"data/weights-{epoch:03d}-{loss:.4f}.hdf5\")\n",
        "    filepath = os.path.abspath(\"data/weights.hdf5\")\n",
        "    checkpoint = ModelCheckpoint(\n",
        "        filepath,\n",
        "        period=10, #Every epoch\n",
        "        monitor='loss',\n",
        "        verbose=1,\n",
        "        save_best_only=True,\n",
        "        mode='min'\n",
        "    )\n",
        "    callbacks_list = [checkpoint]\n",
        "\n",
        "    history = model.fit(network_input, network_output, epochs=1, batch_size=64, callbacks=callbacks_list, validation_split=0.2, shuffle=True)\n",
        "    return history"
      ],
      "execution_count": 16,
      "outputs": []
    },
    {
      "cell_type": "code",
      "metadata": {
        "id": "Q53YfOj1Pegs",
        "colab_type": "code",
        "colab": {
          "base_uri": "https://localhost:8080/",
          "height": 67
        },
        "outputId": "653dfd4f-1071-402d-e8fa-69b06af6fe3a"
      },
      "source": [
        "history = None\n",
        "if __name__ == '__main__':\n",
        "    history = train_network()"
      ],
      "execution_count": 17,
      "outputs": [
        {
          "output_type": "stream",
          "text": [
            "Parsing data/AmericanBeautyRag.midi\n",
            "WARNING:tensorflow:`period` argument is deprecated. Please use `save_freq` to specify the frequency in number of batches seen.\n",
            "85/85 [==============================] - 2532s 30s/step - loss: 3.8081 - accuracy: 0.3354 - val_loss: 3.0312 - val_accuracy: 0.3358\n"
          ],
          "name": "stdout"
        }
      ]
    },
    {
      "cell_type": "code",
      "metadata": {
        "id": "16x-7Z7FPiDf",
        "colab_type": "code",
        "colab": {
          "base_uri": "https://localhost:8080/",
          "height": 294
        },
        "outputId": "7b35d2a7-d9f5-42c5-afb8-65556cae4948"
      },
      "source": [
        "plt.plot(history.history['accuracy'])\n",
        "plt.plot(history.history['val_accuracy'])\n",
        "plt.title('model accuracy')\n",
        "plt.ylabel('accuracy')\n",
        "plt.xlabel('epoch')\n",
        "plt.legend(['train', 'val'], loc='upper left')\n",
        "plt.show()"
      ],
      "execution_count": 18,
      "outputs": [
        {
          "output_type": "display_data",
          "data": {
            "image/png": "[encoded data removed]",
            "text/plain": [
              "<Figure size 432x288 with 1 Axes>"
            ]
          },
          "metadata": {
            "tags": [],
            "image/png": {
              "width": 404,
              "height": 277
            },
            "needs_background": "light"
          }
        }
      ]
    },
    {
      "cell_type": "code",
      "metadata": {
        "id": "5_JzjkMnPitC",
        "colab_type": "code",
        "colab": {
          "base_uri": "https://localhost:8080/",
          "height": 294
        },
        "outputId": "97e6b3a7-ead9-4160-f3b3-44060e8e3dad"
      },
      "source": [
        "plt.plot(history.history['accuracy'])\n",
        "plt.plot(history.history['val_accuracy'])\n",
        "plt.title('model accuracy')\n",
        "plt.ylabel('accuracy')\n",
        "plt.xlabel('epoch')\n",
        "plt.legend(['train', 'val'], loc='upper left')\n",
        "plt.show()"
      ],
      "execution_count": 19,
      "outputs": [
        {
          "output_type": "display_data",
          "data": {
            "image/png": "[encoded data removed]",
            "text/plain": [
              "<Figure size 432x288 with 1 Axes>"
            ]
          },
          "metadata": {
            "tags": [],
            "image/png": {
              "width": 404,
              "height": 277
            },
            "needs_background": "light"
          }
        }
      ]
    },
    {
      "cell_type": "code",
      "metadata": {
        "id": "f8TO1HRPPtd0",
        "colab_type": "code",
        "colab": {
          "base_uri": "https://localhost:8080/",
          "height": 34
        },
        "outputId": "9472ce8d-2f23-4842-9708-b9331b312eed"
      },
      "source": [
        "len(glob.glob(train_path + '**/*.midi', recursive=True))"
      ],
      "execution_count": 20,
      "outputs": [
        {
          "output_type": "execute_result",
          "data": {
            "text/plain": [
              "5"
            ]
          },
          "metadata": {
            "tags": []
          },
          "execution_count": 20
        }
      ]
    }
  ]
}